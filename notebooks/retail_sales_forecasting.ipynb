{
 "cells": [
  {
   "cell_type": "markdown",
   "id": "55b5f292-ab80-44f1-acfd-56c411820dca",
   "metadata": {},
   "source": [
    "#### https://www.kaggle.com/competitions/store-sales-time-series-forecasting/data"
   ]
  },
  {
   "cell_type": "code",
   "execution_count": 1,
   "id": "e240c631-db56-4d28-b199-9bdda472fb86",
   "metadata": {},
   "outputs": [],
   "source": [
    "import pandas as pd\n",
    "import numpy as np\n",
    "import matplotlib.pyplot as plt\n",
    "import seaborn as sns\n",
    "import tensorflow as tf\n",
    "\n",
    "train_df = pd.read_csv('/Users/babamalik/Desktop/Data_Scientist/Store Sales - Time Series Forecasting/data/train.csv', parse_dates=[\"date\"])\n",
    "test_df = pd.read_csv(\"/Users/babamalik/Desktop/Data_Scientist/Store Sales - Time Series Forecasting/data/test.csv\", parse_dates=[\"date\"])\n",
    "stores_df = pd.read_csv(\"/Users/babamalik/Desktop/Data_Scientist/Store Sales - Time Series Forecasting/data/stores.csv\")\n",
    "oil_df = pd.read_csv(\"/Users/babamalik/Desktop/Data_Scientist/Store Sales - Time Series Forecasting/data/oil.csv\", parse_dates=[\"date\"])\n",
    "holidays_df = pd.read_csv(\"/Users/babamalik/Desktop/Data_Scientist/Store Sales - Time Series Forecasting/data/holidays_events.csv\", parse_dates=[\"date\"])\n",
    "transactions_df = pd.read_csv(\"/Users/babamalik/Desktop/Data_Scientist/Store Sales - Time Series Forecasting/data/transactions.csv\", parse_dates=[\"date\"])"
   ]
  },
  {
   "cell_type": "code",
   "execution_count": 2,
   "id": "b84216cd-9b87-4346-aa79-87b8ead26225",
   "metadata": {},
   "outputs": [
    {
     "name": "stdout",
     "output_type": "stream",
     "text": [
      "   id       date  store_nbr      family  sales  onpromotion\n",
      "0   0 2013-01-01          1  AUTOMOTIVE    0.0            0\n",
      "1   1 2013-01-01          1   BABY CARE    0.0            0\n",
      "2   2 2013-01-01          1      BEAUTY    0.0            0\n",
      "3   3 2013-01-01          1   BEVERAGES    0.0            0\n",
      "4   4 2013-01-01          1       BOOKS    0.0            0\n",
      "<class 'pandas.core.frame.DataFrame'>\n",
      "RangeIndex: 3000888 entries, 0 to 3000887\n",
      "Data columns (total 6 columns):\n",
      " #   Column       Dtype         \n",
      "---  ------       -----         \n",
      " 0   id           int64         \n",
      " 1   date         datetime64[ns]\n",
      " 2   store_nbr    int64         \n",
      " 3   family       object        \n",
      " 4   sales        float64       \n",
      " 5   onpromotion  int64         \n",
      "dtypes: datetime64[ns](1), float64(1), int64(3), object(1)\n",
      "memory usage: 137.4+ MB\n",
      "None\n"
     ]
    }
   ],
   "source": [
    "# Display basic info\n",
    "print(train_df.head())\n",
    "print(train_df.info())"
   ]
  },
  {
   "cell_type": "code",
   "execution_count": 3,
   "id": "6e019508-2741-43b8-aefb-4fa8b4093464",
   "metadata": {},
   "outputs": [
    {
     "data": {
      "text/plain": [
       "33"
      ]
     },
     "execution_count": 3,
     "metadata": {},
     "output_type": "execute_result"
    }
   ],
   "source": [
    "train_df['family'].nunique()\n",
    "# 'nunique()': Use this method when you only need the count of unique values."
   ]
  },
  {
   "cell_type": "code",
   "execution_count": 4,
   "id": "0a1988ea-7673-45cf-b1bd-9ba858bb32f2",
   "metadata": {},
   "outputs": [
    {
     "name": "stdout",
     "output_type": "stream",
     "text": [
      "<class 'pandas.core.frame.DataFrame'>\n",
      "RangeIndex: 83488 entries, 0 to 83487\n",
      "Data columns (total 3 columns):\n",
      " #   Column        Non-Null Count  Dtype         \n",
      "---  ------        --------------  -----         \n",
      " 0   date          83488 non-null  datetime64[ns]\n",
      " 1   store_nbr     83488 non-null  int64         \n",
      " 2   transactions  83488 non-null  int64         \n",
      "dtypes: datetime64[ns](1), int64(2)\n",
      "memory usage: 1.9 MB\n"
     ]
    }
   ],
   "source": [
    "transactions_df.info()"
   ]
  },
  {
   "cell_type": "code",
   "execution_count": 5,
   "id": "2498fb85-6348-40f5-8925-bca024caf98b",
   "metadata": {},
   "outputs": [],
   "source": [
    "# Merge transactions into train data\n",
    "train_df = train_df.merge(transactions_df, on=[\"date\", \"store_nbr\"], how=\"left\")"
   ]
  },
  {
   "cell_type": "code",
   "execution_count": 6,
   "id": "e599a011-cf1b-47d7-99ce-5a1059d0c68f",
   "metadata": {},
   "outputs": [
    {
     "data": {
      "text/plain": [
       "np.int64(2755104)"
      ]
     },
     "execution_count": 6,
     "metadata": {},
     "output_type": "execute_result"
    }
   ],
   "source": [
    "train_df['transactions'].count()"
   ]
  },
  {
   "cell_type": "code",
   "execution_count": 7,
   "id": "f3aacd5c-cda0-43d3-8565-281d857172b4",
   "metadata": {},
   "outputs": [
    {
     "data": {
      "text/plain": [
       "np.int64(245784)"
      ]
     },
     "execution_count": 7,
     "metadata": {},
     "output_type": "execute_result"
    }
   ],
   "source": [
    "train_df['transactions'].isna().sum()"
   ]
  },
  {
   "cell_type": "code",
   "execution_count": 8,
   "id": "f1b796a5-07f0-48bf-be6b-2c5d9b8a7306",
   "metadata": {},
   "outputs": [
    {
     "data": {
      "text/plain": [
       "3000888"
      ]
     },
     "execution_count": 8,
     "metadata": {},
     "output_type": "execute_result"
    }
   ],
   "source": [
    "len(train_df['transactions'])"
   ]
  },
  {
   "cell_type": "code",
   "execution_count": 9,
   "id": "095d9b1d-72f0-48da-863e-6eeaee422b89",
   "metadata": {},
   "outputs": [
    {
     "data": {
      "text/html": [
       "<div>\n",
       "<style scoped>\n",
       "    .dataframe tbody tr th:only-of-type {\n",
       "        vertical-align: middle;\n",
       "    }\n",
       "\n",
       "    .dataframe tbody tr th {\n",
       "        vertical-align: top;\n",
       "    }\n",
       "\n",
       "    .dataframe thead th {\n",
       "        text-align: right;\n",
       "    }\n",
       "</style>\n",
       "<table border=\"1\" class=\"dataframe\">\n",
       "  <thead>\n",
       "    <tr style=\"text-align: right;\">\n",
       "      <th></th>\n",
       "      <th>id</th>\n",
       "      <th>date</th>\n",
       "      <th>store_nbr</th>\n",
       "      <th>family</th>\n",
       "      <th>sales</th>\n",
       "      <th>onpromotion</th>\n",
       "      <th>transactions</th>\n",
       "    </tr>\n",
       "  </thead>\n",
       "  <tbody>\n",
       "    <tr>\n",
       "      <th>0</th>\n",
       "      <td>0</td>\n",
       "      <td>2013-01-01</td>\n",
       "      <td>1</td>\n",
       "      <td>AUTOMOTIVE</td>\n",
       "      <td>0.0</td>\n",
       "      <td>0</td>\n",
       "      <td>NaN</td>\n",
       "    </tr>\n",
       "    <tr>\n",
       "      <th>1</th>\n",
       "      <td>1</td>\n",
       "      <td>2013-01-01</td>\n",
       "      <td>1</td>\n",
       "      <td>BABY CARE</td>\n",
       "      <td>0.0</td>\n",
       "      <td>0</td>\n",
       "      <td>NaN</td>\n",
       "    </tr>\n",
       "    <tr>\n",
       "      <th>2</th>\n",
       "      <td>2</td>\n",
       "      <td>2013-01-01</td>\n",
       "      <td>1</td>\n",
       "      <td>BEAUTY</td>\n",
       "      <td>0.0</td>\n",
       "      <td>0</td>\n",
       "      <td>NaN</td>\n",
       "    </tr>\n",
       "    <tr>\n",
       "      <th>3</th>\n",
       "      <td>3</td>\n",
       "      <td>2013-01-01</td>\n",
       "      <td>1</td>\n",
       "      <td>BEVERAGES</td>\n",
       "      <td>0.0</td>\n",
       "      <td>0</td>\n",
       "      <td>NaN</td>\n",
       "    </tr>\n",
       "    <tr>\n",
       "      <th>4</th>\n",
       "      <td>4</td>\n",
       "      <td>2013-01-01</td>\n",
       "      <td>1</td>\n",
       "      <td>BOOKS</td>\n",
       "      <td>0.0</td>\n",
       "      <td>0</td>\n",
       "      <td>NaN</td>\n",
       "    </tr>\n",
       "  </tbody>\n",
       "</table>\n",
       "</div>"
      ],
      "text/plain": [
       "   id       date  store_nbr      family  sales  onpromotion  transactions\n",
       "0   0 2013-01-01          1  AUTOMOTIVE    0.0            0           NaN\n",
       "1   1 2013-01-01          1   BABY CARE    0.0            0           NaN\n",
       "2   2 2013-01-01          1      BEAUTY    0.0            0           NaN\n",
       "3   3 2013-01-01          1   BEVERAGES    0.0            0           NaN\n",
       "4   4 2013-01-01          1       BOOKS    0.0            0           NaN"
      ]
     },
     "execution_count": 9,
     "metadata": {},
     "output_type": "execute_result"
    }
   ],
   "source": [
    "train_df.head()"
   ]
  },
  {
   "cell_type": "code",
   "execution_count": 10,
   "id": "38ebee51-73b0-4cdc-944f-a34bf6b3c2b1",
   "metadata": {},
   "outputs": [
    {
     "name": "stderr",
     "output_type": "stream",
     "text": [
      "/var/folders/nv/hf6t5yfd0_75lf4kc1jtwh7m0000gn/T/ipykernel_16976/187478240.py:2: FutureWarning: A value is trying to be set on a copy of a DataFrame or Series through chained assignment using an inplace method.\n",
      "The behavior will change in pandas 3.0. This inplace method will never work because the intermediate object on which we are setting values always behaves as a copy.\n",
      "\n",
      "For example, when doing 'df[col].method(value, inplace=True)', try using 'df.method({col: value}, inplace=True)' or df[col] = df[col].method(value) instead, to perform the operation inplace on the original object.\n",
      "\n",
      "\n",
      "  train_df[\"transactions\"].fillna(train_df[\"transactions\"].median(), inplace=True)\n"
     ]
    }
   ],
   "source": [
    "# Fill missing transaction values (if any) with the median\n",
    "train_df[\"transactions\"].fillna(train_df[\"transactions\"].median(), inplace=True)"
   ]
  },
  {
   "cell_type": "code",
   "execution_count": 11,
   "id": "d541be1c-b870-4371-bde8-1da64a82a0ba",
   "metadata": {},
   "outputs": [
    {
     "data": {
      "text/plain": [
       "array([1393.,  770., 2111., ..., 4553., 4400., 4392.])"
      ]
     },
     "execution_count": 11,
     "metadata": {},
     "output_type": "execute_result"
    }
   ],
   "source": [
    "train_df['transactions'].unique()"
   ]
  },
  {
   "cell_type": "code",
   "execution_count": 12,
   "id": "cc94cc9e-44e0-4239-9e3b-47d12a81156f",
   "metadata": {
    "scrolled": true
   },
   "outputs": [
    {
     "name": "stdout",
     "output_type": "stream",
     "text": [
      "Merged Data:\n",
      "    id       date  store_nbr      family  sales  onpromotion  transactions\n",
      "0   0 2013-01-01          1  AUTOMOTIVE    0.0            0        1393.0\n",
      "1   1 2013-01-01          1   BABY CARE    0.0            0        1393.0\n",
      "2   2 2013-01-01          1      BEAUTY    0.0            0        1393.0\n",
      "3   3 2013-01-01          1   BEVERAGES    0.0            0        1393.0\n",
      "4   4 2013-01-01          1       BOOKS    0.0            0        1393.0\n"
     ]
    }
   ],
   "source": [
    "# Check if the merge was successful\n",
    "print(\"Merged Data:\\n\", train_df.head())"
   ]
  },
  {
   "cell_type": "code",
   "execution_count": 13,
   "id": "f719acd7-ded7-4678-8aac-6856ba12fbd5",
   "metadata": {},
   "outputs": [],
   "source": [
    "train_df = train_df.merge(oil_df, on=\"date\", how=\"left\")"
   ]
  },
  {
   "cell_type": "code",
   "execution_count": 14,
   "id": "0da5fbc7-4174-43b8-a4bf-bee2d52c1bc4",
   "metadata": {},
   "outputs": [
    {
     "data": {
      "text/html": [
       "<div>\n",
       "<style scoped>\n",
       "    .dataframe tbody tr th:only-of-type {\n",
       "        vertical-align: middle;\n",
       "    }\n",
       "\n",
       "    .dataframe tbody tr th {\n",
       "        vertical-align: top;\n",
       "    }\n",
       "\n",
       "    .dataframe thead th {\n",
       "        text-align: right;\n",
       "    }\n",
       "</style>\n",
       "<table border=\"1\" class=\"dataframe\">\n",
       "  <thead>\n",
       "    <tr style=\"text-align: right;\">\n",
       "      <th></th>\n",
       "      <th>id</th>\n",
       "      <th>date</th>\n",
       "      <th>store_nbr</th>\n",
       "      <th>family</th>\n",
       "      <th>sales</th>\n",
       "      <th>onpromotion</th>\n",
       "      <th>transactions</th>\n",
       "      <th>dcoilwtico</th>\n",
       "    </tr>\n",
       "  </thead>\n",
       "  <tbody>\n",
       "    <tr>\n",
       "      <th>0</th>\n",
       "      <td>0</td>\n",
       "      <td>2013-01-01</td>\n",
       "      <td>1</td>\n",
       "      <td>AUTOMOTIVE</td>\n",
       "      <td>0.0</td>\n",
       "      <td>0</td>\n",
       "      <td>1393.0</td>\n",
       "      <td>NaN</td>\n",
       "    </tr>\n",
       "    <tr>\n",
       "      <th>1</th>\n",
       "      <td>1</td>\n",
       "      <td>2013-01-01</td>\n",
       "      <td>1</td>\n",
       "      <td>BABY CARE</td>\n",
       "      <td>0.0</td>\n",
       "      <td>0</td>\n",
       "      <td>1393.0</td>\n",
       "      <td>NaN</td>\n",
       "    </tr>\n",
       "    <tr>\n",
       "      <th>2</th>\n",
       "      <td>2</td>\n",
       "      <td>2013-01-01</td>\n",
       "      <td>1</td>\n",
       "      <td>BEAUTY</td>\n",
       "      <td>0.0</td>\n",
       "      <td>0</td>\n",
       "      <td>1393.0</td>\n",
       "      <td>NaN</td>\n",
       "    </tr>\n",
       "    <tr>\n",
       "      <th>3</th>\n",
       "      <td>3</td>\n",
       "      <td>2013-01-01</td>\n",
       "      <td>1</td>\n",
       "      <td>BEVERAGES</td>\n",
       "      <td>0.0</td>\n",
       "      <td>0</td>\n",
       "      <td>1393.0</td>\n",
       "      <td>NaN</td>\n",
       "    </tr>\n",
       "    <tr>\n",
       "      <th>4</th>\n",
       "      <td>4</td>\n",
       "      <td>2013-01-01</td>\n",
       "      <td>1</td>\n",
       "      <td>BOOKS</td>\n",
       "      <td>0.0</td>\n",
       "      <td>0</td>\n",
       "      <td>1393.0</td>\n",
       "      <td>NaN</td>\n",
       "    </tr>\n",
       "  </tbody>\n",
       "</table>\n",
       "</div>"
      ],
      "text/plain": [
       "   id       date  store_nbr      family  sales  onpromotion  transactions  \\\n",
       "0   0 2013-01-01          1  AUTOMOTIVE    0.0            0        1393.0   \n",
       "1   1 2013-01-01          1   BABY CARE    0.0            0        1393.0   \n",
       "2   2 2013-01-01          1      BEAUTY    0.0            0        1393.0   \n",
       "3   3 2013-01-01          1   BEVERAGES    0.0            0        1393.0   \n",
       "4   4 2013-01-01          1       BOOKS    0.0            0        1393.0   \n",
       "\n",
       "   dcoilwtico  \n",
       "0         NaN  \n",
       "1         NaN  \n",
       "2         NaN  \n",
       "3         NaN  \n",
       "4         NaN  "
      ]
     },
     "execution_count": 14,
     "metadata": {},
     "output_type": "execute_result"
    }
   ],
   "source": [
    "train_df.head()"
   ]
  },
  {
   "cell_type": "code",
   "execution_count": 15,
   "id": "df95a945-7a3a-4b5b-a6b6-9b201f8b2a0a",
   "metadata": {},
   "outputs": [],
   "source": [
    "#train_df = train_df.drop(['dcoilwtico_x', 'dcoilwtico_y'], axis=1)"
   ]
  },
  {
   "cell_type": "code",
   "execution_count": 16,
   "id": "4897400e-0949-474e-a290-c9a1e74112c8",
   "metadata": {},
   "outputs": [
    {
     "data": {
      "text/html": [
       "<div>\n",
       "<style scoped>\n",
       "    .dataframe tbody tr th:only-of-type {\n",
       "        vertical-align: middle;\n",
       "    }\n",
       "\n",
       "    .dataframe tbody tr th {\n",
       "        vertical-align: top;\n",
       "    }\n",
       "\n",
       "    .dataframe thead th {\n",
       "        text-align: right;\n",
       "    }\n",
       "</style>\n",
       "<table border=\"1\" class=\"dataframe\">\n",
       "  <thead>\n",
       "    <tr style=\"text-align: right;\">\n",
       "      <th></th>\n",
       "      <th>id</th>\n",
       "      <th>date</th>\n",
       "      <th>store_nbr</th>\n",
       "      <th>family</th>\n",
       "      <th>sales</th>\n",
       "      <th>onpromotion</th>\n",
       "      <th>transactions</th>\n",
       "      <th>dcoilwtico</th>\n",
       "    </tr>\n",
       "  </thead>\n",
       "  <tbody>\n",
       "    <tr>\n",
       "      <th>0</th>\n",
       "      <td>0</td>\n",
       "      <td>2013-01-01</td>\n",
       "      <td>1</td>\n",
       "      <td>AUTOMOTIVE</td>\n",
       "      <td>0.0</td>\n",
       "      <td>0</td>\n",
       "      <td>1393.0</td>\n",
       "      <td>NaN</td>\n",
       "    </tr>\n",
       "    <tr>\n",
       "      <th>1</th>\n",
       "      <td>1</td>\n",
       "      <td>2013-01-01</td>\n",
       "      <td>1</td>\n",
       "      <td>BABY CARE</td>\n",
       "      <td>0.0</td>\n",
       "      <td>0</td>\n",
       "      <td>1393.0</td>\n",
       "      <td>NaN</td>\n",
       "    </tr>\n",
       "    <tr>\n",
       "      <th>2</th>\n",
       "      <td>2</td>\n",
       "      <td>2013-01-01</td>\n",
       "      <td>1</td>\n",
       "      <td>BEAUTY</td>\n",
       "      <td>0.0</td>\n",
       "      <td>0</td>\n",
       "      <td>1393.0</td>\n",
       "      <td>NaN</td>\n",
       "    </tr>\n",
       "    <tr>\n",
       "      <th>3</th>\n",
       "      <td>3</td>\n",
       "      <td>2013-01-01</td>\n",
       "      <td>1</td>\n",
       "      <td>BEVERAGES</td>\n",
       "      <td>0.0</td>\n",
       "      <td>0</td>\n",
       "      <td>1393.0</td>\n",
       "      <td>NaN</td>\n",
       "    </tr>\n",
       "    <tr>\n",
       "      <th>4</th>\n",
       "      <td>4</td>\n",
       "      <td>2013-01-01</td>\n",
       "      <td>1</td>\n",
       "      <td>BOOKS</td>\n",
       "      <td>0.0</td>\n",
       "      <td>0</td>\n",
       "      <td>1393.0</td>\n",
       "      <td>NaN</td>\n",
       "    </tr>\n",
       "  </tbody>\n",
       "</table>\n",
       "</div>"
      ],
      "text/plain": [
       "   id       date  store_nbr      family  sales  onpromotion  transactions  \\\n",
       "0   0 2013-01-01          1  AUTOMOTIVE    0.0            0        1393.0   \n",
       "1   1 2013-01-01          1   BABY CARE    0.0            0        1393.0   \n",
       "2   2 2013-01-01          1      BEAUTY    0.0            0        1393.0   \n",
       "3   3 2013-01-01          1   BEVERAGES    0.0            0        1393.0   \n",
       "4   4 2013-01-01          1       BOOKS    0.0            0        1393.0   \n",
       "\n",
       "   dcoilwtico  \n",
       "0         NaN  \n",
       "1         NaN  \n",
       "2         NaN  \n",
       "3         NaN  \n",
       "4         NaN  "
      ]
     },
     "execution_count": 16,
     "metadata": {},
     "output_type": "execute_result"
    }
   ],
   "source": [
    "train_df.head()"
   ]
  },
  {
   "cell_type": "code",
   "execution_count": 17,
   "id": "5addc603-d2ea-4b30-8a80-54e56be9bad0",
   "metadata": {
    "scrolled": true
   },
   "outputs": [
    {
     "data": {
      "text/plain": [
       "array([   nan,  93.14,  92.97,  93.12,  93.2 ,  93.21,  93.08,  93.81,\n",
       "        93.6 ,  94.27,  93.26,  94.28,  95.49,  95.61,  96.09,  95.06,\n",
       "        95.35,  95.15,  95.95,  97.62,  97.98,  97.65,  97.46,  96.21,\n",
       "        96.68,  96.44,  95.84,  95.71,  97.01,  97.48,  97.03,  97.3 ,\n",
       "        96.69,  94.92,  92.79,  92.74,  92.63,  92.84,  92.03,  90.71,\n",
       "        90.13,  90.88,  90.47,  91.53,  92.01,  92.07,  92.44,  92.47,\n",
       "        93.03,  93.49,  93.71,  92.46,  93.41,  94.55,  95.99,  96.53,\n",
       "        97.24,  97.1 ,  97.23,  95.02,  92.76,  93.36,  94.18,  94.59,\n",
       "        93.44,  91.23,  88.75,  88.73,  86.65,  87.83,  88.04,  88.81,\n",
       "        89.21,  91.07,  93.27,  94.09,  93.22,  90.74,  93.7 ,  95.25,\n",
       "        95.8 ,  95.28,  96.24,  95.81,  94.76,  93.96,  93.95,  94.85,\n",
       "        95.72,  96.29,  95.55,  93.98,  94.12,  93.84,  94.65,  93.13,\n",
       "        93.57,  91.93,  93.66,  94.71,  96.11,  95.82,  95.5 ,  95.98,\n",
       "        96.66,  97.83,  97.86,  98.46,  98.24,  94.89,  95.07,  95.47,\n",
       "        97.  ,  96.36,  97.94,  99.65, 101.92, 103.09, 103.03, 103.46,\n",
       "       106.41, 104.77, 105.85, 106.2 , 105.88, 106.39, 107.94, 108.  ,\n",
       "       106.61, 107.13, 105.41, 105.47, 104.76, 104.61, 103.14, 105.1 ,\n",
       "       107.93, 106.94, 105.32, 104.41, 103.45, 106.04, 106.19, 106.78,\n",
       "       106.89, 107.43, 107.58, 107.14, 104.9 , 103.93, 104.93, 106.48,\n",
       "       109.11, 110.17, 108.51, 107.98, 108.67, 107.29, 108.5 , 110.62,\n",
       "       109.62, 107.48, 107.65, 108.72, 108.31, 106.54, 105.36, 108.23,\n",
       "       106.26, 104.7 , 103.62, 103.22, 102.68, 103.1 , 102.86, 102.36,\n",
       "       102.09, 104.15, 103.29, 103.83, 103.07, 103.54, 101.63, 103.08,\n",
       "       102.17, 102.46, 101.15, 102.34, 100.72, 100.87,  99.28,  97.63,\n",
       "        96.9 ,  96.65,  97.4 ,  98.74,  98.29,  96.81,  94.56,  94.58,\n",
       "        93.4 ,  94.74,  94.25,  95.13,  93.91,  93.76,  93.8 ,  93.35,\n",
       "        93.34,  94.53,  93.86,  92.05,  92.55,  93.61,  95.83,  96.97,\n",
       "        97.14,  98.32,  97.25,  97.21,  96.27,  97.18,  96.99,  97.59,\n",
       "        98.4 ,  99.11,  98.62,  98.87,  99.18,  99.94,  98.9 ,  98.17,\n",
       "        95.14,  93.31,  91.9 ,  91.36,  92.39,  91.45,  92.15,  93.78,\n",
       "        93.54,  94.51,  96.35,  97.49,  97.34,  98.25,  97.55,  97.84,\n",
       "        99.98, 100.12,  99.96, 100.38, 100.27, 100.31, 102.54, 103.2 ,\n",
       "       102.53, 103.17, 102.2 , 102.93, 102.88, 105.34, 103.64, 101.75,\n",
       "       101.82, 102.82, 101.39, 100.29,  98.57,  99.23,  98.43, 100.08,\n",
       "       100.71,  99.68,  99.97, 100.05,  99.66, 100.61, 101.25, 101.73,\n",
       "       101.57,  99.69,  99.6 , 101.16, 100.43, 102.57, 103.55, 103.37,\n",
       "       103.68, 104.05, 103.7 , 103.71, 104.33, 104.35, 101.69, 101.47,\n",
       "       100.85, 101.13, 101.56, 100.07, 100.09,  99.74,  99.81, 101.06,\n",
       "       100.52, 100.32, 100.89, 102.01, 102.63, 101.74, 102.31, 102.95,\n",
       "       102.8 , 104.31, 104.03, 105.01, 104.78, 104.26, 103.4 , 103.34,\n",
       "       103.27, 103.32, 105.09, 105.02, 105.04, 107.2 , 107.49, 107.52,\n",
       "       106.95, 106.64, 107.08, 107.95, 106.83, 107.04, 106.49, 106.46,\n",
       "       106.07, 106.06, 105.18, 104.19, 104.06, 103.61, 101.48, 100.56,\n",
       "       101.88, 103.84, 104.59, 103.81, 102.76, 105.23, 105.68, 104.91,\n",
       "       104.29,  98.23,  98.26,  96.93,  97.61,  98.09,  97.36,  97.57,\n",
       "        95.54,  94.35,  96.4 ,  93.97,  95.39,  95.78,  92.92,  93.32,\n",
       "        92.64,  92.73,  91.71,  92.89,  92.18,  92.86,  94.91,  94.33,\n",
       "        93.07,  92.43,  91.46,  91.55,  93.59,  91.17,  91.02,  89.76,\n",
       "        90.33,  88.89,  87.29,  85.76,  85.87,  85.73,  81.72,  81.82,\n",
       "        82.33,  82.8 ,  82.76,  83.25,  80.52,  82.81,  81.27,  81.26,\n",
       "        81.36,  82.25,  81.06,  80.53,  78.77,  77.15,  78.71,  77.87,\n",
       "        77.43,  77.85,  77.16,  74.13,  75.91,  75.64,  74.55,  75.63,\n",
       "        76.52,  75.74,  74.04,  73.7 ,  65.94,  68.98,  66.99,  67.3 ,\n",
       "        66.73,  65.89,  63.13,  63.74,  60.99,  60.01,  57.81,  55.96,\n",
       "        55.97,  56.43,  54.18,  56.91,  55.25,  56.78,  55.7 ,  54.59,\n",
       "        53.46,  54.14,  53.45,  52.72,  50.05,  47.98,  48.69,  48.8 ,\n",
       "        48.35,  46.06,  45.92,  48.49,  46.37,  46.79,  47.85,  45.93,\n",
       "        45.26,  44.8 ,  45.84,  44.08,  44.12,  47.79,  49.25,  53.04,\n",
       "        48.45,  50.48,  51.66,  52.99,  50.06,  51.17,  52.66,  53.56,\n",
       "        52.13,  51.12,  49.95,  49.56,  48.48,  50.25,  47.65,  49.84,\n",
       "        49.59,  50.43,  51.53,  50.76,  49.61,  48.42,  48.06,  47.12,\n",
       "        44.88,  43.93,  43.39,  44.63,  44.02,  46.  ,  47.4 ,  47.03,\n",
       "        48.75,  51.41,  48.83,  48.66,  47.72,  50.12,  49.13,  52.08,\n",
       "        53.95,  50.44,  50.79,  51.63,  51.95,  53.3 ,  56.25,  56.69,\n",
       "        55.71,  56.37,  55.58,  56.17,  56.59,  55.98,  55.56,  57.05,\n",
       "        58.55,  59.62,  59.1 ,  58.92,  60.38,  60.93,  58.99,  59.41,\n",
       "        59.23,  60.72,  60.5 ,  59.89,  59.73,  59.44,  57.3 ,  58.96,\n",
       "        60.18,  58.88,  57.29,  57.51,  57.69,  60.25,  60.24,  61.3 ,\n",
       "        59.67,  58.  ,  59.11,  58.15,  60.15,  61.36,  60.74,  59.96,\n",
       "        59.53,  60.41,  61.05,  59.59,  58.34,  59.48,  56.94,  56.93,\n",
       "        52.48,  52.33,  51.61,  52.76,  52.74,  52.19,  53.05,  51.4 ,\n",
       "        50.9 ,  50.88,  50.11,  50.59,  49.27,  48.11,  47.17,  47.97,\n",
       "        48.77,  48.53,  47.11,  45.25,  45.75,  45.13,  44.69,  43.87,\n",
       "        44.94,  43.11,  43.22,  42.27,  42.45,  41.93,  42.58,  40.75,\n",
       "        41.  ,  40.45,  38.22,  39.15,  38.5 ,  42.47,  45.29,  49.2 ,\n",
       "        45.38,  46.3 ,  46.75,  46.02,  44.13,  45.85,  44.75,  44.07,\n",
       "        44.58,  46.93,  44.71,  46.67,  46.17,  44.53,  45.55,  44.4 ,\n",
       "        45.24,  45.06,  45.54,  46.28,  47.86,  49.46,  49.67,  47.09,\n",
       "        46.7 ,  46.63,  46.38,  47.3 ,  45.91,  45.22,  44.9 ,  43.91,\n",
       "        43.19,  43.21,  46.6 ,  46.12,  47.88,  46.32,  45.27,  44.32,\n",
       "        44.23,  42.95,  41.74,  40.69,  41.68,  40.73,  40.55,  39.39,\n",
       "        39.27,  40.89,  41.22,  40.57,  40.43,  40.58,  39.93,  41.08,\n",
       "        40.  ,  37.64,  37.46,  37.16,  36.76,  35.65,  36.31,  37.32,\n",
       "        35.55,  34.98,  34.72,  34.55,  36.12,  37.62,  36.36,  37.88,\n",
       "        36.59,  37.13,  36.81,  35.97,  33.97,  33.29,  33.2 ,  31.42,\n",
       "        30.42,  31.22,  29.45,  28.47,  26.68,  29.55,  32.07,  30.31,\n",
       "        29.54,  32.32,  33.21,  33.66,  31.62,  29.9 ,  32.29,  31.63,\n",
       "        30.86,  29.71,  27.96,  27.54,  26.19,  29.32,  29.05,  30.68,\n",
       "        30.77,  29.59,  31.37,  31.84,  30.35,  31.4 ,  31.65,  32.74,\n",
       "        34.39,  34.57,  34.56,  35.91,  37.9 ,  36.67,  37.77,  38.51,\n",
       "        37.2 ,  36.32,  38.43,  40.17,  39.47,  39.91,  41.45,  38.28,\n",
       "        38.14,  37.99,  36.91,  36.94,  35.36,  34.3 ,  34.52,  37.74,\n",
       "        37.3 ,  39.74,  40.46,  42.12,  41.7 ,  40.4 ,  40.88,  42.72,\n",
       "        43.18,  42.76,  41.67,  42.52,  46.03,  45.98,  43.65,  43.77,\n",
       "        44.33,  43.45,  44.68,  46.21,  46.64,  46.22,  48.29,  48.12,\n",
       "        48.16,  47.67,  48.04,  49.1 ,  49.  ,  49.36,  49.07,  49.14,\n",
       "        49.71,  50.37,  51.23,  50.52,  49.09,  48.89,  47.92,  46.14,\n",
       "        48.  ,  49.4 ,  48.95,  49.16,  49.34,  45.8 ,  47.93,  49.85,\n",
       "        48.27,  49.02,  46.73,  47.37,  45.37,  44.73,  46.82,  44.87,\n",
       "        45.64,  45.23,  44.64,  44.96,  43.96,  43.41,  42.4 ,  42.16,\n",
       "        41.9 ,  41.13,  41.54,  40.05,  39.5 ,  40.8 ,  41.92,  41.83,\n",
       "        43.06,  42.78,  41.75,  43.51,  44.47,  45.72,  46.57,  46.81,\n",
       "        48.2 ,  46.8 ,  47.54,  46.29,  46.97,  47.64,  43.17,  44.39,\n",
       "        44.85,  45.47,  47.63,  45.88,  44.91,  43.62,  43.85,  43.04,\n",
       "        43.34,  45.33,  46.1 ,  44.36,  45.6 ,  44.65,  47.07,  48.67,\n",
       "        49.75,  49.76,  50.72,  50.14,  50.47,  50.35,  49.97,  50.3 ,\n",
       "        51.59,  50.31,  50.61,  50.18,  49.45,  48.72,  46.83,  46.66,\n",
       "        45.32,  44.66,  45.2 ,  44.62,  43.29,  45.86,  45.56,  45.69,\n",
       "        47.48,  48.07,  46.72,  45.66,  49.41,  51.08,  51.7 ,  51.72,\n",
       "        50.95,  50.84,  51.51,  51.01,  51.93,  52.22,  51.44,  51.98,\n",
       "        52.01,  52.82,  54.01,  53.8 ,  53.75,  52.36,  53.26,  53.77,\n",
       "        53.98,  50.82,  53.01,  52.45,  51.39,  52.77,  52.38,  52.14,\n",
       "        53.24,  53.18,  52.63,  52.75,  53.9 ,  53.55,  53.81,  52.37,\n",
       "        53.84,  52.96,  53.21,  53.11,  53.41,  54.02,  53.61,  54.48,\n",
       "        53.99,  54.04,  54.  ,  53.82,  53.33,  53.19,  52.68,  49.83,\n",
       "        48.05,  47.95,  47.24,  48.34,  48.3 ,  47.02,  47.29,  47.  ,\n",
       "        48.36,  49.47,  50.54,  50.99,  51.14,  51.69,  52.25,  53.06,\n",
       "        53.38,  53.12,  52.62,  52.46,  50.49,  50.26,  49.64,  48.9 ,\n",
       "        49.22,  48.96,  49.31,  46.23,  46.46,  47.28,  47.81,  47.83,\n",
       "        48.86,  48.64,  49.04,  50.32,  50.81,  48.57,  49.58,  49.63,\n",
       "        48.32,  47.68,  48.13,  45.68,  45.82,  46.41,  44.79,  44.24,\n",
       "        42.48,  42.53,  42.86,  43.24,  44.25,  44.74,  45.11,  45.52,\n",
       "        45.48,  46.53,  46.4 ,  47.1 ,  45.78,  47.77,  48.58,  49.05,\n",
       "        49.72,  50.21,  49.19,  49.6 ,  49.03,  49.57,  49.37,  48.54,\n",
       "        48.81,  47.59,  47.57])"
      ]
     },
     "execution_count": 17,
     "metadata": {},
     "output_type": "execute_result"
    }
   ],
   "source": [
    "train_df['dcoilwtico'].unique()"
   ]
  },
  {
   "cell_type": "code",
   "execution_count": 18,
   "id": "1a8206a5-58a6-4db2-9089-4fb064ad06c6",
   "metadata": {
    "scrolled": true
   },
   "outputs": [
    {
     "data": {
      "text/plain": [
       "994"
      ]
     },
     "execution_count": 18,
     "metadata": {},
     "output_type": "execute_result"
    }
   ],
   "source": [
    "train_df['dcoilwtico'].nunique()"
   ]
  },
  {
   "cell_type": "code",
   "execution_count": 19,
   "id": "e06020dc-8e61-43f5-96a3-8ae2a89f32d0",
   "metadata": {},
   "outputs": [],
   "source": [
    "# Fill missing oil prices using forward fill\n",
    "train_df[\"dcoilwtico\"] = train_df[\"dcoilwtico\"].ffill()"
   ]
  },
  {
   "cell_type": "code",
   "execution_count": 20,
   "id": "0d04579b-29e3-474d-b659-2f01078cfd6a",
   "metadata": {},
   "outputs": [
    {
     "data": {
      "text/html": [
       "<div>\n",
       "<style scoped>\n",
       "    .dataframe tbody tr th:only-of-type {\n",
       "        vertical-align: middle;\n",
       "    }\n",
       "\n",
       "    .dataframe tbody tr th {\n",
       "        vertical-align: top;\n",
       "    }\n",
       "\n",
       "    .dataframe thead th {\n",
       "        text-align: right;\n",
       "    }\n",
       "</style>\n",
       "<table border=\"1\" class=\"dataframe\">\n",
       "  <thead>\n",
       "    <tr style=\"text-align: right;\">\n",
       "      <th></th>\n",
       "      <th>id</th>\n",
       "      <th>date</th>\n",
       "      <th>store_nbr</th>\n",
       "      <th>family</th>\n",
       "      <th>sales</th>\n",
       "      <th>onpromotion</th>\n",
       "      <th>transactions</th>\n",
       "      <th>dcoilwtico</th>\n",
       "    </tr>\n",
       "  </thead>\n",
       "  <tbody>\n",
       "    <tr>\n",
       "      <th>0</th>\n",
       "      <td>0</td>\n",
       "      <td>2013-01-01</td>\n",
       "      <td>1</td>\n",
       "      <td>AUTOMOTIVE</td>\n",
       "      <td>0.0</td>\n",
       "      <td>0</td>\n",
       "      <td>1393.0</td>\n",
       "      <td>NaN</td>\n",
       "    </tr>\n",
       "    <tr>\n",
       "      <th>1</th>\n",
       "      <td>1</td>\n",
       "      <td>2013-01-01</td>\n",
       "      <td>1</td>\n",
       "      <td>BABY CARE</td>\n",
       "      <td>0.0</td>\n",
       "      <td>0</td>\n",
       "      <td>1393.0</td>\n",
       "      <td>NaN</td>\n",
       "    </tr>\n",
       "    <tr>\n",
       "      <th>2</th>\n",
       "      <td>2</td>\n",
       "      <td>2013-01-01</td>\n",
       "      <td>1</td>\n",
       "      <td>BEAUTY</td>\n",
       "      <td>0.0</td>\n",
       "      <td>0</td>\n",
       "      <td>1393.0</td>\n",
       "      <td>NaN</td>\n",
       "    </tr>\n",
       "    <tr>\n",
       "      <th>3</th>\n",
       "      <td>3</td>\n",
       "      <td>2013-01-01</td>\n",
       "      <td>1</td>\n",
       "      <td>BEVERAGES</td>\n",
       "      <td>0.0</td>\n",
       "      <td>0</td>\n",
       "      <td>1393.0</td>\n",
       "      <td>NaN</td>\n",
       "    </tr>\n",
       "    <tr>\n",
       "      <th>4</th>\n",
       "      <td>4</td>\n",
       "      <td>2013-01-01</td>\n",
       "      <td>1</td>\n",
       "      <td>BOOKS</td>\n",
       "      <td>0.0</td>\n",
       "      <td>0</td>\n",
       "      <td>1393.0</td>\n",
       "      <td>NaN</td>\n",
       "    </tr>\n",
       "  </tbody>\n",
       "</table>\n",
       "</div>"
      ],
      "text/plain": [
       "   id       date  store_nbr      family  sales  onpromotion  transactions  \\\n",
       "0   0 2013-01-01          1  AUTOMOTIVE    0.0            0        1393.0   \n",
       "1   1 2013-01-01          1   BABY CARE    0.0            0        1393.0   \n",
       "2   2 2013-01-01          1      BEAUTY    0.0            0        1393.0   \n",
       "3   3 2013-01-01          1   BEVERAGES    0.0            0        1393.0   \n",
       "4   4 2013-01-01          1       BOOKS    0.0            0        1393.0   \n",
       "\n",
       "   dcoilwtico  \n",
       "0         NaN  \n",
       "1         NaN  \n",
       "2         NaN  \n",
       "3         NaN  \n",
       "4         NaN  "
      ]
     },
     "execution_count": 20,
     "metadata": {},
     "output_type": "execute_result"
    }
   ],
   "source": [
    "train_df.head()"
   ]
  },
  {
   "cell_type": "code",
   "execution_count": 21,
   "id": "c925e6c3-b403-4c27-981a-553d6d8ffe87",
   "metadata": {},
   "outputs": [
    {
     "name": "stdout",
     "output_type": "stream",
     "text": [
      "1782\n"
     ]
    }
   ],
   "source": [
    "print(train_df[\"dcoilwtico\"].isnull().sum()) "
   ]
  },
  {
   "cell_type": "code",
   "execution_count": 22,
   "id": "fa8e8337-825d-4317-89f9-3aa742d5140a",
   "metadata": {},
   "outputs": [],
   "source": [
    "train_df[\"dcoilwtico\"] = train_df[\"dcoilwtico\"].ffill().bfill()"
   ]
  },
  {
   "cell_type": "code",
   "execution_count": 23,
   "id": "791ecff2-7aed-4efd-882e-a0b30a0d8517",
   "metadata": {},
   "outputs": [
    {
     "name": "stdout",
     "output_type": "stream",
     "text": [
      "0\n"
     ]
    }
   ],
   "source": [
    "print(train_df[\"dcoilwtico\"].isnull().sum()) "
   ]
  },
  {
   "cell_type": "code",
   "execution_count": 24,
   "id": "ccc02cf3-ac1d-4e85-86fd-c3c65dd86a46",
   "metadata": {},
   "outputs": [],
   "source": [
    "# Merge holidays data\n",
    "train_df = train_df.merge(holidays_df[[\"date\", \"type\"]], on=\"date\", how=\"left\")"
   ]
  },
  {
   "cell_type": "code",
   "execution_count": 25,
   "id": "cd53de6f-bc49-4e4f-80c5-3b6f77efbe57",
   "metadata": {},
   "outputs": [],
   "source": [
    "train_df[\"type\"] = train_df[\"type\"].fillna(\"No Holiday\")"
   ]
  },
  {
   "cell_type": "code",
   "execution_count": 26,
   "id": "491d2c2c-d26f-4eb7-a4bb-fc9d6bea7c35",
   "metadata": {},
   "outputs": [
    {
     "name": "stdout",
     "output_type": "stream",
     "text": [
      "0\n"
     ]
    }
   ],
   "source": [
    "print(train_df[\"type\"].isnull().sum())"
   ]
  },
  {
   "cell_type": "code",
   "execution_count": 27,
   "id": "5bfda894-758b-43a8-8da7-2934c62a760f",
   "metadata": {},
   "outputs": [
    {
     "data": {
      "text/html": [
       "<div>\n",
       "<style scoped>\n",
       "    .dataframe tbody tr th:only-of-type {\n",
       "        vertical-align: middle;\n",
       "    }\n",
       "\n",
       "    .dataframe tbody tr th {\n",
       "        vertical-align: top;\n",
       "    }\n",
       "\n",
       "    .dataframe thead th {\n",
       "        text-align: right;\n",
       "    }\n",
       "</style>\n",
       "<table border=\"1\" class=\"dataframe\">\n",
       "  <thead>\n",
       "    <tr style=\"text-align: right;\">\n",
       "      <th></th>\n",
       "      <th>id</th>\n",
       "      <th>date</th>\n",
       "      <th>store_nbr</th>\n",
       "      <th>family</th>\n",
       "      <th>sales</th>\n",
       "      <th>onpromotion</th>\n",
       "      <th>transactions</th>\n",
       "      <th>dcoilwtico</th>\n",
       "      <th>type</th>\n",
       "    </tr>\n",
       "  </thead>\n",
       "  <tbody>\n",
       "    <tr>\n",
       "      <th>0</th>\n",
       "      <td>0</td>\n",
       "      <td>2013-01-01</td>\n",
       "      <td>1</td>\n",
       "      <td>AUTOMOTIVE</td>\n",
       "      <td>0.0</td>\n",
       "      <td>0</td>\n",
       "      <td>1393.0</td>\n",
       "      <td>93.14</td>\n",
       "      <td>Holiday</td>\n",
       "    </tr>\n",
       "    <tr>\n",
       "      <th>1</th>\n",
       "      <td>1</td>\n",
       "      <td>2013-01-01</td>\n",
       "      <td>1</td>\n",
       "      <td>BABY CARE</td>\n",
       "      <td>0.0</td>\n",
       "      <td>0</td>\n",
       "      <td>1393.0</td>\n",
       "      <td>93.14</td>\n",
       "      <td>Holiday</td>\n",
       "    </tr>\n",
       "    <tr>\n",
       "      <th>2</th>\n",
       "      <td>2</td>\n",
       "      <td>2013-01-01</td>\n",
       "      <td>1</td>\n",
       "      <td>BEAUTY</td>\n",
       "      <td>0.0</td>\n",
       "      <td>0</td>\n",
       "      <td>1393.0</td>\n",
       "      <td>93.14</td>\n",
       "      <td>Holiday</td>\n",
       "    </tr>\n",
       "    <tr>\n",
       "      <th>3</th>\n",
       "      <td>3</td>\n",
       "      <td>2013-01-01</td>\n",
       "      <td>1</td>\n",
       "      <td>BEVERAGES</td>\n",
       "      <td>0.0</td>\n",
       "      <td>0</td>\n",
       "      <td>1393.0</td>\n",
       "      <td>93.14</td>\n",
       "      <td>Holiday</td>\n",
       "    </tr>\n",
       "    <tr>\n",
       "      <th>4</th>\n",
       "      <td>4</td>\n",
       "      <td>2013-01-01</td>\n",
       "      <td>1</td>\n",
       "      <td>BOOKS</td>\n",
       "      <td>0.0</td>\n",
       "      <td>0</td>\n",
       "      <td>1393.0</td>\n",
       "      <td>93.14</td>\n",
       "      <td>Holiday</td>\n",
       "    </tr>\n",
       "  </tbody>\n",
       "</table>\n",
       "</div>"
      ],
      "text/plain": [
       "   id       date  store_nbr      family  sales  onpromotion  transactions  \\\n",
       "0   0 2013-01-01          1  AUTOMOTIVE    0.0            0        1393.0   \n",
       "1   1 2013-01-01          1   BABY CARE    0.0            0        1393.0   \n",
       "2   2 2013-01-01          1      BEAUTY    0.0            0        1393.0   \n",
       "3   3 2013-01-01          1   BEVERAGES    0.0            0        1393.0   \n",
       "4   4 2013-01-01          1       BOOKS    0.0            0        1393.0   \n",
       "\n",
       "   dcoilwtico     type  \n",
       "0       93.14  Holiday  \n",
       "1       93.14  Holiday  \n",
       "2       93.14  Holiday  \n",
       "3       93.14  Holiday  \n",
       "4       93.14  Holiday  "
      ]
     },
     "execution_count": 27,
     "metadata": {},
     "output_type": "execute_result"
    }
   ],
   "source": [
    "train_df.head()"
   ]
  },
  {
   "cell_type": "code",
   "execution_count": 28,
   "id": "58ce5e93-f503-4507-878d-c8d1b29d9a5b",
   "metadata": {},
   "outputs": [
    {
     "data": {
      "text/html": [
       "<div>\n",
       "<style scoped>\n",
       "    .dataframe tbody tr th:only-of-type {\n",
       "        vertical-align: middle;\n",
       "    }\n",
       "\n",
       "    .dataframe tbody tr th {\n",
       "        vertical-align: top;\n",
       "    }\n",
       "\n",
       "    .dataframe thead th {\n",
       "        text-align: right;\n",
       "    }\n",
       "</style>\n",
       "<table border=\"1\" class=\"dataframe\">\n",
       "  <thead>\n",
       "    <tr style=\"text-align: right;\">\n",
       "      <th></th>\n",
       "      <th>store_nbr</th>\n",
       "      <th>city</th>\n",
       "      <th>state</th>\n",
       "      <th>type</th>\n",
       "      <th>cluster</th>\n",
       "    </tr>\n",
       "  </thead>\n",
       "  <tbody>\n",
       "    <tr>\n",
       "      <th>0</th>\n",
       "      <td>1</td>\n",
       "      <td>Quito</td>\n",
       "      <td>Pichincha</td>\n",
       "      <td>D</td>\n",
       "      <td>13</td>\n",
       "    </tr>\n",
       "    <tr>\n",
       "      <th>1</th>\n",
       "      <td>2</td>\n",
       "      <td>Quito</td>\n",
       "      <td>Pichincha</td>\n",
       "      <td>D</td>\n",
       "      <td>13</td>\n",
       "    </tr>\n",
       "    <tr>\n",
       "      <th>2</th>\n",
       "      <td>3</td>\n",
       "      <td>Quito</td>\n",
       "      <td>Pichincha</td>\n",
       "      <td>D</td>\n",
       "      <td>8</td>\n",
       "    </tr>\n",
       "    <tr>\n",
       "      <th>3</th>\n",
       "      <td>4</td>\n",
       "      <td>Quito</td>\n",
       "      <td>Pichincha</td>\n",
       "      <td>D</td>\n",
       "      <td>9</td>\n",
       "    </tr>\n",
       "    <tr>\n",
       "      <th>4</th>\n",
       "      <td>5</td>\n",
       "      <td>Santo Domingo</td>\n",
       "      <td>Santo Domingo de los Tsachilas</td>\n",
       "      <td>D</td>\n",
       "      <td>4</td>\n",
       "    </tr>\n",
       "  </tbody>\n",
       "</table>\n",
       "</div>"
      ],
      "text/plain": [
       "   store_nbr           city                           state type  cluster\n",
       "0          1          Quito                       Pichincha    D       13\n",
       "1          2          Quito                       Pichincha    D       13\n",
       "2          3          Quito                       Pichincha    D        8\n",
       "3          4          Quito                       Pichincha    D        9\n",
       "4          5  Santo Domingo  Santo Domingo de los Tsachilas    D        4"
      ]
     },
     "execution_count": 28,
     "metadata": {},
     "output_type": "execute_result"
    }
   ],
   "source": [
    "stores_df.head()"
   ]
  },
  {
   "cell_type": "code",
   "execution_count": 29,
   "id": "14a81c14-4b97-4f9f-9fb2-cbc1a2a1cfbf",
   "metadata": {},
   "outputs": [],
   "source": [
    "# Merge store metadata\n",
    "train_df = train_df.merge(stores_df, on=\"store_nbr\", how=\"left\")"
   ]
  },
  {
   "cell_type": "code",
   "execution_count": 30,
   "id": "f8dcd321-95be-44ff-9778-137f3ca2d9d7",
   "metadata": {},
   "outputs": [
    {
     "data": {
      "text/html": [
       "<div>\n",
       "<style scoped>\n",
       "    .dataframe tbody tr th:only-of-type {\n",
       "        vertical-align: middle;\n",
       "    }\n",
       "\n",
       "    .dataframe tbody tr th {\n",
       "        vertical-align: top;\n",
       "    }\n",
       "\n",
       "    .dataframe thead th {\n",
       "        text-align: right;\n",
       "    }\n",
       "</style>\n",
       "<table border=\"1\" class=\"dataframe\">\n",
       "  <thead>\n",
       "    <tr style=\"text-align: right;\">\n",
       "      <th></th>\n",
       "      <th>id</th>\n",
       "      <th>date</th>\n",
       "      <th>store_nbr</th>\n",
       "      <th>family</th>\n",
       "      <th>sales</th>\n",
       "      <th>onpromotion</th>\n",
       "      <th>transactions</th>\n",
       "      <th>dcoilwtico</th>\n",
       "      <th>type_x</th>\n",
       "      <th>city</th>\n",
       "      <th>state</th>\n",
       "      <th>type_y</th>\n",
       "      <th>cluster</th>\n",
       "    </tr>\n",
       "  </thead>\n",
       "  <tbody>\n",
       "    <tr>\n",
       "      <th>0</th>\n",
       "      <td>0</td>\n",
       "      <td>2013-01-01</td>\n",
       "      <td>1</td>\n",
       "      <td>AUTOMOTIVE</td>\n",
       "      <td>0.0</td>\n",
       "      <td>0</td>\n",
       "      <td>1393.0</td>\n",
       "      <td>93.14</td>\n",
       "      <td>Holiday</td>\n",
       "      <td>Quito</td>\n",
       "      <td>Pichincha</td>\n",
       "      <td>D</td>\n",
       "      <td>13</td>\n",
       "    </tr>\n",
       "    <tr>\n",
       "      <th>1</th>\n",
       "      <td>1</td>\n",
       "      <td>2013-01-01</td>\n",
       "      <td>1</td>\n",
       "      <td>BABY CARE</td>\n",
       "      <td>0.0</td>\n",
       "      <td>0</td>\n",
       "      <td>1393.0</td>\n",
       "      <td>93.14</td>\n",
       "      <td>Holiday</td>\n",
       "      <td>Quito</td>\n",
       "      <td>Pichincha</td>\n",
       "      <td>D</td>\n",
       "      <td>13</td>\n",
       "    </tr>\n",
       "    <tr>\n",
       "      <th>2</th>\n",
       "      <td>2</td>\n",
       "      <td>2013-01-01</td>\n",
       "      <td>1</td>\n",
       "      <td>BEAUTY</td>\n",
       "      <td>0.0</td>\n",
       "      <td>0</td>\n",
       "      <td>1393.0</td>\n",
       "      <td>93.14</td>\n",
       "      <td>Holiday</td>\n",
       "      <td>Quito</td>\n",
       "      <td>Pichincha</td>\n",
       "      <td>D</td>\n",
       "      <td>13</td>\n",
       "    </tr>\n",
       "    <tr>\n",
       "      <th>3</th>\n",
       "      <td>3</td>\n",
       "      <td>2013-01-01</td>\n",
       "      <td>1</td>\n",
       "      <td>BEVERAGES</td>\n",
       "      <td>0.0</td>\n",
       "      <td>0</td>\n",
       "      <td>1393.0</td>\n",
       "      <td>93.14</td>\n",
       "      <td>Holiday</td>\n",
       "      <td>Quito</td>\n",
       "      <td>Pichincha</td>\n",
       "      <td>D</td>\n",
       "      <td>13</td>\n",
       "    </tr>\n",
       "    <tr>\n",
       "      <th>4</th>\n",
       "      <td>4</td>\n",
       "      <td>2013-01-01</td>\n",
       "      <td>1</td>\n",
       "      <td>BOOKS</td>\n",
       "      <td>0.0</td>\n",
       "      <td>0</td>\n",
       "      <td>1393.0</td>\n",
       "      <td>93.14</td>\n",
       "      <td>Holiday</td>\n",
       "      <td>Quito</td>\n",
       "      <td>Pichincha</td>\n",
       "      <td>D</td>\n",
       "      <td>13</td>\n",
       "    </tr>\n",
       "  </tbody>\n",
       "</table>\n",
       "</div>"
      ],
      "text/plain": [
       "   id       date  store_nbr      family  sales  onpromotion  transactions  \\\n",
       "0   0 2013-01-01          1  AUTOMOTIVE    0.0            0        1393.0   \n",
       "1   1 2013-01-01          1   BABY CARE    0.0            0        1393.0   \n",
       "2   2 2013-01-01          1      BEAUTY    0.0            0        1393.0   \n",
       "3   3 2013-01-01          1   BEVERAGES    0.0            0        1393.0   \n",
       "4   4 2013-01-01          1       BOOKS    0.0            0        1393.0   \n",
       "\n",
       "   dcoilwtico   type_x   city      state type_y  cluster  \n",
       "0       93.14  Holiday  Quito  Pichincha      D       13  \n",
       "1       93.14  Holiday  Quito  Pichincha      D       13  \n",
       "2       93.14  Holiday  Quito  Pichincha      D       13  \n",
       "3       93.14  Holiday  Quito  Pichincha      D       13  \n",
       "4       93.14  Holiday  Quito  Pichincha      D       13  "
      ]
     },
     "execution_count": 30,
     "metadata": {},
     "output_type": "execute_result"
    }
   ],
   "source": [
    "# Check final merged dataset\n",
    "train_df.head()"
   ]
  },
  {
   "cell_type": "code",
   "execution_count": 31,
   "id": "ef8ae466-e027-4246-a887-2be684ede26e",
   "metadata": {},
   "outputs": [],
   "source": [
    "# Rename type_y to store_type\n",
    "train_df.rename(columns={\"type_x\": \"holiday_type\", \"type_y\": \"store_type\"}, inplace=True)"
   ]
  },
  {
   "cell_type": "code",
   "execution_count": 32,
   "id": "b8cb1cdc-2797-4f9c-bec6-e5207bb6b943",
   "metadata": {},
   "outputs": [
    {
     "data": {
      "text/html": [
       "<div>\n",
       "<style scoped>\n",
       "    .dataframe tbody tr th:only-of-type {\n",
       "        vertical-align: middle;\n",
       "    }\n",
       "\n",
       "    .dataframe tbody tr th {\n",
       "        vertical-align: top;\n",
       "    }\n",
       "\n",
       "    .dataframe thead th {\n",
       "        text-align: right;\n",
       "    }\n",
       "</style>\n",
       "<table border=\"1\" class=\"dataframe\">\n",
       "  <thead>\n",
       "    <tr style=\"text-align: right;\">\n",
       "      <th></th>\n",
       "      <th>id</th>\n",
       "      <th>date</th>\n",
       "      <th>store_nbr</th>\n",
       "      <th>family</th>\n",
       "      <th>sales</th>\n",
       "      <th>onpromotion</th>\n",
       "      <th>transactions</th>\n",
       "      <th>dcoilwtico</th>\n",
       "      <th>holiday_type</th>\n",
       "      <th>city</th>\n",
       "      <th>state</th>\n",
       "      <th>store_type</th>\n",
       "      <th>cluster</th>\n",
       "    </tr>\n",
       "  </thead>\n",
       "  <tbody>\n",
       "    <tr>\n",
       "      <th>0</th>\n",
       "      <td>0</td>\n",
       "      <td>2013-01-01</td>\n",
       "      <td>1</td>\n",
       "      <td>AUTOMOTIVE</td>\n",
       "      <td>0.0</td>\n",
       "      <td>0</td>\n",
       "      <td>1393.0</td>\n",
       "      <td>93.14</td>\n",
       "      <td>Holiday</td>\n",
       "      <td>Quito</td>\n",
       "      <td>Pichincha</td>\n",
       "      <td>D</td>\n",
       "      <td>13</td>\n",
       "    </tr>\n",
       "    <tr>\n",
       "      <th>1</th>\n",
       "      <td>1</td>\n",
       "      <td>2013-01-01</td>\n",
       "      <td>1</td>\n",
       "      <td>BABY CARE</td>\n",
       "      <td>0.0</td>\n",
       "      <td>0</td>\n",
       "      <td>1393.0</td>\n",
       "      <td>93.14</td>\n",
       "      <td>Holiday</td>\n",
       "      <td>Quito</td>\n",
       "      <td>Pichincha</td>\n",
       "      <td>D</td>\n",
       "      <td>13</td>\n",
       "    </tr>\n",
       "    <tr>\n",
       "      <th>2</th>\n",
       "      <td>2</td>\n",
       "      <td>2013-01-01</td>\n",
       "      <td>1</td>\n",
       "      <td>BEAUTY</td>\n",
       "      <td>0.0</td>\n",
       "      <td>0</td>\n",
       "      <td>1393.0</td>\n",
       "      <td>93.14</td>\n",
       "      <td>Holiday</td>\n",
       "      <td>Quito</td>\n",
       "      <td>Pichincha</td>\n",
       "      <td>D</td>\n",
       "      <td>13</td>\n",
       "    </tr>\n",
       "    <tr>\n",
       "      <th>3</th>\n",
       "      <td>3</td>\n",
       "      <td>2013-01-01</td>\n",
       "      <td>1</td>\n",
       "      <td>BEVERAGES</td>\n",
       "      <td>0.0</td>\n",
       "      <td>0</td>\n",
       "      <td>1393.0</td>\n",
       "      <td>93.14</td>\n",
       "      <td>Holiday</td>\n",
       "      <td>Quito</td>\n",
       "      <td>Pichincha</td>\n",
       "      <td>D</td>\n",
       "      <td>13</td>\n",
       "    </tr>\n",
       "    <tr>\n",
       "      <th>4</th>\n",
       "      <td>4</td>\n",
       "      <td>2013-01-01</td>\n",
       "      <td>1</td>\n",
       "      <td>BOOKS</td>\n",
       "      <td>0.0</td>\n",
       "      <td>0</td>\n",
       "      <td>1393.0</td>\n",
       "      <td>93.14</td>\n",
       "      <td>Holiday</td>\n",
       "      <td>Quito</td>\n",
       "      <td>Pichincha</td>\n",
       "      <td>D</td>\n",
       "      <td>13</td>\n",
       "    </tr>\n",
       "  </tbody>\n",
       "</table>\n",
       "</div>"
      ],
      "text/plain": [
       "   id       date  store_nbr      family  sales  onpromotion  transactions  \\\n",
       "0   0 2013-01-01          1  AUTOMOTIVE    0.0            0        1393.0   \n",
       "1   1 2013-01-01          1   BABY CARE    0.0            0        1393.0   \n",
       "2   2 2013-01-01          1      BEAUTY    0.0            0        1393.0   \n",
       "3   3 2013-01-01          1   BEVERAGES    0.0            0        1393.0   \n",
       "4   4 2013-01-01          1       BOOKS    0.0            0        1393.0   \n",
       "\n",
       "   dcoilwtico holiday_type   city      state store_type  cluster  \n",
       "0       93.14      Holiday  Quito  Pichincha          D       13  \n",
       "1       93.14      Holiday  Quito  Pichincha          D       13  \n",
       "2       93.14      Holiday  Quito  Pichincha          D       13  \n",
       "3       93.14      Holiday  Quito  Pichincha          D       13  \n",
       "4       93.14      Holiday  Quito  Pichincha          D       13  "
      ]
     },
     "execution_count": 32,
     "metadata": {},
     "output_type": "execute_result"
    }
   ],
   "source": [
    "# Check the final merged dataset\n",
    "train_df.head()\n"
   ]
  },
  {
   "cell_type": "markdown",
   "id": "4c8e406a-409a-4404-bb31-e9608bae040b",
   "metadata": {},
   "source": [
    "# Feature Engineering"
   ]
  },
  {
   "cell_type": "code",
   "execution_count": 33,
   "id": "2077ea49-627d-4c90-9694-4a8f0dd1838d",
   "metadata": {},
   "outputs": [],
   "source": [
    "# Extract Date Features\n",
    "train_df[\"year\"] = train_df[\"date\"].dt.year\n",
    "train_df[\"month\"] = train_df[\"date\"].dt.month\n",
    "train_df[\"day\"] = train_df[\"date\"].dt.day\n",
    "train_df[\"weekday\"] = train_df[\"date\"].dt.weekday  # Monday = 0, Sunday = 6\n",
    "train_df[\"is_weekend\"] = (train_df[\"weekday\"] >= 5).astype(int)  # 1 if Sat/Sun, else 0"
   ]
  },
  {
   "cell_type": "code",
   "execution_count": 34,
   "id": "2113ab99-8999-49e7-886d-b15f7172ea1c",
   "metadata": {},
   "outputs": [
    {
     "data": {
      "text/html": [
       "<div>\n",
       "<style scoped>\n",
       "    .dataframe tbody tr th:only-of-type {\n",
       "        vertical-align: middle;\n",
       "    }\n",
       "\n",
       "    .dataframe tbody tr th {\n",
       "        vertical-align: top;\n",
       "    }\n",
       "\n",
       "    .dataframe thead th {\n",
       "        text-align: right;\n",
       "    }\n",
       "</style>\n",
       "<table border=\"1\" class=\"dataframe\">\n",
       "  <thead>\n",
       "    <tr style=\"text-align: right;\">\n",
       "      <th></th>\n",
       "      <th>id</th>\n",
       "      <th>date</th>\n",
       "      <th>store_nbr</th>\n",
       "      <th>family</th>\n",
       "      <th>sales</th>\n",
       "      <th>onpromotion</th>\n",
       "      <th>transactions</th>\n",
       "      <th>dcoilwtico</th>\n",
       "      <th>holiday_type</th>\n",
       "      <th>city</th>\n",
       "      <th>state</th>\n",
       "      <th>store_type</th>\n",
       "      <th>cluster</th>\n",
       "      <th>year</th>\n",
       "      <th>month</th>\n",
       "      <th>day</th>\n",
       "      <th>weekday</th>\n",
       "      <th>is_weekend</th>\n",
       "    </tr>\n",
       "  </thead>\n",
       "  <tbody>\n",
       "    <tr>\n",
       "      <th>3054343</th>\n",
       "      <td>3000883</td>\n",
       "      <td>2017-08-15</td>\n",
       "      <td>9</td>\n",
       "      <td>POULTRY</td>\n",
       "      <td>438.133</td>\n",
       "      <td>0</td>\n",
       "      <td>2155.0</td>\n",
       "      <td>47.57</td>\n",
       "      <td>Holiday</td>\n",
       "      <td>Quito</td>\n",
       "      <td>Pichincha</td>\n",
       "      <td>B</td>\n",
       "      <td>6</td>\n",
       "      <td>2017</td>\n",
       "      <td>8</td>\n",
       "      <td>15</td>\n",
       "      <td>1</td>\n",
       "      <td>0</td>\n",
       "    </tr>\n",
       "    <tr>\n",
       "      <th>3054344</th>\n",
       "      <td>3000884</td>\n",
       "      <td>2017-08-15</td>\n",
       "      <td>9</td>\n",
       "      <td>PREPARED FOODS</td>\n",
       "      <td>154.553</td>\n",
       "      <td>1</td>\n",
       "      <td>2155.0</td>\n",
       "      <td>47.57</td>\n",
       "      <td>Holiday</td>\n",
       "      <td>Quito</td>\n",
       "      <td>Pichincha</td>\n",
       "      <td>B</td>\n",
       "      <td>6</td>\n",
       "      <td>2017</td>\n",
       "      <td>8</td>\n",
       "      <td>15</td>\n",
       "      <td>1</td>\n",
       "      <td>0</td>\n",
       "    </tr>\n",
       "    <tr>\n",
       "      <th>3054345</th>\n",
       "      <td>3000885</td>\n",
       "      <td>2017-08-15</td>\n",
       "      <td>9</td>\n",
       "      <td>PRODUCE</td>\n",
       "      <td>2419.729</td>\n",
       "      <td>148</td>\n",
       "      <td>2155.0</td>\n",
       "      <td>47.57</td>\n",
       "      <td>Holiday</td>\n",
       "      <td>Quito</td>\n",
       "      <td>Pichincha</td>\n",
       "      <td>B</td>\n",
       "      <td>6</td>\n",
       "      <td>2017</td>\n",
       "      <td>8</td>\n",
       "      <td>15</td>\n",
       "      <td>1</td>\n",
       "      <td>0</td>\n",
       "    </tr>\n",
       "    <tr>\n",
       "      <th>3054346</th>\n",
       "      <td>3000886</td>\n",
       "      <td>2017-08-15</td>\n",
       "      <td>9</td>\n",
       "      <td>SCHOOL AND OFFICE SUPPLIES</td>\n",
       "      <td>121.000</td>\n",
       "      <td>8</td>\n",
       "      <td>2155.0</td>\n",
       "      <td>47.57</td>\n",
       "      <td>Holiday</td>\n",
       "      <td>Quito</td>\n",
       "      <td>Pichincha</td>\n",
       "      <td>B</td>\n",
       "      <td>6</td>\n",
       "      <td>2017</td>\n",
       "      <td>8</td>\n",
       "      <td>15</td>\n",
       "      <td>1</td>\n",
       "      <td>0</td>\n",
       "    </tr>\n",
       "    <tr>\n",
       "      <th>3054347</th>\n",
       "      <td>3000887</td>\n",
       "      <td>2017-08-15</td>\n",
       "      <td>9</td>\n",
       "      <td>SEAFOOD</td>\n",
       "      <td>16.000</td>\n",
       "      <td>0</td>\n",
       "      <td>2155.0</td>\n",
       "      <td>47.57</td>\n",
       "      <td>Holiday</td>\n",
       "      <td>Quito</td>\n",
       "      <td>Pichincha</td>\n",
       "      <td>B</td>\n",
       "      <td>6</td>\n",
       "      <td>2017</td>\n",
       "      <td>8</td>\n",
       "      <td>15</td>\n",
       "      <td>1</td>\n",
       "      <td>0</td>\n",
       "    </tr>\n",
       "  </tbody>\n",
       "</table>\n",
       "</div>"
      ],
      "text/plain": [
       "              id       date  store_nbr                      family     sales  \\\n",
       "3054343  3000883 2017-08-15          9                     POULTRY   438.133   \n",
       "3054344  3000884 2017-08-15          9              PREPARED FOODS   154.553   \n",
       "3054345  3000885 2017-08-15          9                     PRODUCE  2419.729   \n",
       "3054346  3000886 2017-08-15          9  SCHOOL AND OFFICE SUPPLIES   121.000   \n",
       "3054347  3000887 2017-08-15          9                     SEAFOOD    16.000   \n",
       "\n",
       "         onpromotion  transactions  dcoilwtico holiday_type   city      state  \\\n",
       "3054343            0        2155.0       47.57      Holiday  Quito  Pichincha   \n",
       "3054344            1        2155.0       47.57      Holiday  Quito  Pichincha   \n",
       "3054345          148        2155.0       47.57      Holiday  Quito  Pichincha   \n",
       "3054346            8        2155.0       47.57      Holiday  Quito  Pichincha   \n",
       "3054347            0        2155.0       47.57      Holiday  Quito  Pichincha   \n",
       "\n",
       "        store_type  cluster  year  month  day  weekday  is_weekend  \n",
       "3054343          B        6  2017      8   15        1           0  \n",
       "3054344          B        6  2017      8   15        1           0  \n",
       "3054345          B        6  2017      8   15        1           0  \n",
       "3054346          B        6  2017      8   15        1           0  \n",
       "3054347          B        6  2017      8   15        1           0  "
      ]
     },
     "execution_count": 34,
     "metadata": {},
     "output_type": "execute_result"
    }
   ],
   "source": [
    "train_df.tail()"
   ]
  },
  {
   "cell_type": "code",
   "execution_count": 35,
   "id": "4b8413b8-e982-439c-ae79-35a5285757ff",
   "metadata": {},
   "outputs": [
    {
     "data": {
      "text/plain": [
       "array(['Holiday', 'No Holiday', 'Work Day', 'Additional', 'Event',\n",
       "       'Transfer', 'Bridge'], dtype=object)"
      ]
     },
     "execution_count": 35,
     "metadata": {},
     "output_type": "execute_result"
    }
   ],
   "source": [
    "train_df['holiday_type'].unique()"
   ]
  },
  {
   "cell_type": "code",
   "execution_count": 36,
   "id": "6a7ec11c-bca9-4ad9-9772-6f7c3eb086da",
   "metadata": {},
   "outputs": [
    {
     "data": {
      "text/plain": [
       "0          0.000000\n",
       "1          0.000000\n",
       "2          0.000000\n",
       "3          0.000000\n",
       "4          0.000000\n",
       "             ...   \n",
       "3054343    0.203310\n",
       "3054344    0.071718\n",
       "3054345    1.122844\n",
       "3054346    0.056148\n",
       "3054347    0.007425\n",
       "Name: sales_per_transaction, Length: 3054348, dtype: float64"
      ]
     },
     "execution_count": 36,
     "metadata": {},
     "output_type": "execute_result"
    }
   ],
   "source": [
    "\n",
    "# Feature: Sales per Transaction\n",
    "train_df[\"sales_per_transaction\"] = train_df[\"sales\"] / train_df[\"transactions\"]\n",
    "train_df[\"sales_per_transaction\"].fillna(0)  # Fill missing values\n"
   ]
  },
  {
   "cell_type": "code",
   "execution_count": 37,
   "id": "cd7cc55d-2cc7-4ad9-9662-75c0e6538903",
   "metadata": {},
   "outputs": [],
   "source": [
    "# Encode Holiday Type (Convert Categorical Data to Numeric)\n",
    "# train_df[\"holiday_flag\"] = train_df[\"holiday_type\"].apply(lambda x: 1 if x != \"No Holiday\" else 0)\n",
    "\n",
    "# Drop unnecessary columns\n",
    "# train_df.drop(columns=[\"type\"], inplace=True)\n",
    "\n",
    "\n",
    "# One-hot encode store_type (D, C, B, A)\n",
    "train_df = pd.get_dummies(train_df, columns=[\"store_type\"], drop_first=True)\n"
   ]
  },
  {
   "cell_type": "code",
   "execution_count": 38,
   "id": "2eea4f31-1e67-412c-afc3-7f26cf3e2284",
   "metadata": {},
   "outputs": [
    {
     "data": {
      "text/plain": [
       "Index(['id', 'date', 'store_nbr', 'family', 'sales', 'onpromotion',\n",
       "       'transactions', 'dcoilwtico', 'holiday_type', 'city', 'state',\n",
       "       'cluster', 'year', 'month', 'day', 'weekday', 'is_weekend',\n",
       "       'sales_per_transaction', 'store_type_B', 'store_type_C', 'store_type_D',\n",
       "       'store_type_E'],\n",
       "      dtype='object')"
      ]
     },
     "execution_count": 38,
     "metadata": {},
     "output_type": "execute_result"
    }
   ],
   "source": [
    "train_df.columns"
   ]
  },
  {
   "cell_type": "code",
   "execution_count": 39,
   "id": "a5cabae3-d4f5-4ae4-8d78-0803ef76b11c",
   "metadata": {},
   "outputs": [
    {
     "name": "stdout",
     "output_type": "stream",
     "text": [
      "store_type_B     452496\n",
      "store_type_C     848430\n",
      "store_type_D    1018116\n",
      "store_type_E     226248\n",
      "dtype: int64\n"
     ]
    }
   ],
   "source": [
    "print(train_df[[\"store_type_B\", \"store_type_C\", \"store_type_D\", \"store_type_E\"]].sum())\n"
   ]
  },
  {
   "cell_type": "code",
   "execution_count": 40,
   "id": "4b6ce581-bd58-44d4-bb68-8a9ca1c047db",
   "metadata": {},
   "outputs": [],
   "source": [
    "train_df.drop(columns=[\"id\", \"family\", \"date\"], inplace=True)"
   ]
  },
  {
   "cell_type": "code",
   "execution_count": 41,
   "id": "981018a9-aa76-4c9b-a9c9-a22ec48fc0ff",
   "metadata": {
    "scrolled": true
   },
   "outputs": [
    {
     "data": {
      "text/html": [
       "<div>\n",
       "<style scoped>\n",
       "    .dataframe tbody tr th:only-of-type {\n",
       "        vertical-align: middle;\n",
       "    }\n",
       "\n",
       "    .dataframe tbody tr th {\n",
       "        vertical-align: top;\n",
       "    }\n",
       "\n",
       "    .dataframe thead th {\n",
       "        text-align: right;\n",
       "    }\n",
       "</style>\n",
       "<table border=\"1\" class=\"dataframe\">\n",
       "  <thead>\n",
       "    <tr style=\"text-align: right;\">\n",
       "      <th></th>\n",
       "      <th>store_nbr</th>\n",
       "      <th>sales</th>\n",
       "      <th>onpromotion</th>\n",
       "      <th>transactions</th>\n",
       "      <th>dcoilwtico</th>\n",
       "      <th>holiday_type</th>\n",
       "      <th>city</th>\n",
       "      <th>state</th>\n",
       "      <th>cluster</th>\n",
       "      <th>year</th>\n",
       "      <th>month</th>\n",
       "      <th>day</th>\n",
       "      <th>weekday</th>\n",
       "      <th>is_weekend</th>\n",
       "      <th>sales_per_transaction</th>\n",
       "      <th>store_type_B</th>\n",
       "      <th>store_type_C</th>\n",
       "      <th>store_type_D</th>\n",
       "      <th>store_type_E</th>\n",
       "    </tr>\n",
       "  </thead>\n",
       "  <tbody>\n",
       "    <tr>\n",
       "      <th>0</th>\n",
       "      <td>1</td>\n",
       "      <td>0.0</td>\n",
       "      <td>0</td>\n",
       "      <td>1393.0</td>\n",
       "      <td>93.14</td>\n",
       "      <td>Holiday</td>\n",
       "      <td>Quito</td>\n",
       "      <td>Pichincha</td>\n",
       "      <td>13</td>\n",
       "      <td>2013</td>\n",
       "      <td>1</td>\n",
       "      <td>1</td>\n",
       "      <td>1</td>\n",
       "      <td>0</td>\n",
       "      <td>0.0</td>\n",
       "      <td>False</td>\n",
       "      <td>False</td>\n",
       "      <td>True</td>\n",
       "      <td>False</td>\n",
       "    </tr>\n",
       "    <tr>\n",
       "      <th>1</th>\n",
       "      <td>1</td>\n",
       "      <td>0.0</td>\n",
       "      <td>0</td>\n",
       "      <td>1393.0</td>\n",
       "      <td>93.14</td>\n",
       "      <td>Holiday</td>\n",
       "      <td>Quito</td>\n",
       "      <td>Pichincha</td>\n",
       "      <td>13</td>\n",
       "      <td>2013</td>\n",
       "      <td>1</td>\n",
       "      <td>1</td>\n",
       "      <td>1</td>\n",
       "      <td>0</td>\n",
       "      <td>0.0</td>\n",
       "      <td>False</td>\n",
       "      <td>False</td>\n",
       "      <td>True</td>\n",
       "      <td>False</td>\n",
       "    </tr>\n",
       "    <tr>\n",
       "      <th>2</th>\n",
       "      <td>1</td>\n",
       "      <td>0.0</td>\n",
       "      <td>0</td>\n",
       "      <td>1393.0</td>\n",
       "      <td>93.14</td>\n",
       "      <td>Holiday</td>\n",
       "      <td>Quito</td>\n",
       "      <td>Pichincha</td>\n",
       "      <td>13</td>\n",
       "      <td>2013</td>\n",
       "      <td>1</td>\n",
       "      <td>1</td>\n",
       "      <td>1</td>\n",
       "      <td>0</td>\n",
       "      <td>0.0</td>\n",
       "      <td>False</td>\n",
       "      <td>False</td>\n",
       "      <td>True</td>\n",
       "      <td>False</td>\n",
       "    </tr>\n",
       "    <tr>\n",
       "      <th>3</th>\n",
       "      <td>1</td>\n",
       "      <td>0.0</td>\n",
       "      <td>0</td>\n",
       "      <td>1393.0</td>\n",
       "      <td>93.14</td>\n",
       "      <td>Holiday</td>\n",
       "      <td>Quito</td>\n",
       "      <td>Pichincha</td>\n",
       "      <td>13</td>\n",
       "      <td>2013</td>\n",
       "      <td>1</td>\n",
       "      <td>1</td>\n",
       "      <td>1</td>\n",
       "      <td>0</td>\n",
       "      <td>0.0</td>\n",
       "      <td>False</td>\n",
       "      <td>False</td>\n",
       "      <td>True</td>\n",
       "      <td>False</td>\n",
       "    </tr>\n",
       "    <tr>\n",
       "      <th>4</th>\n",
       "      <td>1</td>\n",
       "      <td>0.0</td>\n",
       "      <td>0</td>\n",
       "      <td>1393.0</td>\n",
       "      <td>93.14</td>\n",
       "      <td>Holiday</td>\n",
       "      <td>Quito</td>\n",
       "      <td>Pichincha</td>\n",
       "      <td>13</td>\n",
       "      <td>2013</td>\n",
       "      <td>1</td>\n",
       "      <td>1</td>\n",
       "      <td>1</td>\n",
       "      <td>0</td>\n",
       "      <td>0.0</td>\n",
       "      <td>False</td>\n",
       "      <td>False</td>\n",
       "      <td>True</td>\n",
       "      <td>False</td>\n",
       "    </tr>\n",
       "  </tbody>\n",
       "</table>\n",
       "</div>"
      ],
      "text/plain": [
       "   store_nbr  sales  onpromotion  transactions  dcoilwtico holiday_type  \\\n",
       "0          1    0.0            0        1393.0       93.14      Holiday   \n",
       "1          1    0.0            0        1393.0       93.14      Holiday   \n",
       "2          1    0.0            0        1393.0       93.14      Holiday   \n",
       "3          1    0.0            0        1393.0       93.14      Holiday   \n",
       "4          1    0.0            0        1393.0       93.14      Holiday   \n",
       "\n",
       "    city      state  cluster  year  month  day  weekday  is_weekend  \\\n",
       "0  Quito  Pichincha       13  2013      1    1        1           0   \n",
       "1  Quito  Pichincha       13  2013      1    1        1           0   \n",
       "2  Quito  Pichincha       13  2013      1    1        1           0   \n",
       "3  Quito  Pichincha       13  2013      1    1        1           0   \n",
       "4  Quito  Pichincha       13  2013      1    1        1           0   \n",
       "\n",
       "   sales_per_transaction  store_type_B  store_type_C  store_type_D  \\\n",
       "0                    0.0         False         False          True   \n",
       "1                    0.0         False         False          True   \n",
       "2                    0.0         False         False          True   \n",
       "3                    0.0         False         False          True   \n",
       "4                    0.0         False         False          True   \n",
       "\n",
       "   store_type_E  \n",
       "0         False  \n",
       "1         False  \n",
       "2         False  \n",
       "3         False  \n",
       "4         False  "
      ]
     },
     "execution_count": 41,
     "metadata": {},
     "output_type": "execute_result"
    }
   ],
   "source": [
    "train_df.head()"
   ]
  },
  {
   "cell_type": "markdown",
   "id": "bbc29e5f-5d3b-476f-93f9-bbca32533b6f",
   "metadata": {},
   "source": [
    "# Data Visualization"
   ]
  },
  {
   "cell_type": "markdown",
   "id": "ec2670b8-853d-4983-9fff-90ba46d60e7b",
   "metadata": {},
   "source": [
    "### Plot Sales Over Time"
   ]
  },
  {
   "cell_type": "code",
   "execution_count": 42,
   "id": "c7881e57-8dd1-4cd8-b34f-fabf6adcbc1b",
   "metadata": {},
   "outputs": [
    {
     "data": {
      "image/png": "[encoded data removed]",
      "text/plain": [
       "<Figure size 1200x600 with 1 Axes>"
      ]
     },
     "metadata": {},
     "output_type": "display_data"
    }
   ],
   "source": [
    "import matplotlib.pyplot as plt\n",
    "import seaborn as sns\n",
    "\n",
    "plt.figure(figsize=(12, 6))\n",
    "sns.lineplot(x=train_df[\"month\"], y=train_df[\"sales\"], estimator=\"mean\")\n",
    "plt.title(\"Average Sales Per Month\")\n",
    "plt.xlabel(\"Month\")\n",
    "plt.ylabel(\"Sales\")\n",
    "plt.show()"
   ]
  },
  {
   "cell_type": "markdown",
   "id": "bfd5a4e0-64b2-415c-bcb7-0b389146072d",
   "metadata": {},
   "source": [
    "### Sales vs. Transactions"
   ]
  },
  {
   "cell_type": "code",
   "execution_count": 43,
   "id": "4b1fe8a3-f577-4038-95a8-c7d3e5873100",
   "metadata": {},
   "outputs": [
    {
     "data": {
      "image/png": "[encoded data removed]",
      "text/plain": [
       "<Figure size 1200x600 with 1 Axes>"
      ]
     },
     "metadata": {},
     "output_type": "display_data"
    }
   ],
   "source": [
    "plt.figure(figsize=(12, 6))\n",
    "sns.scatterplot(x=train_df[\"transactions\"], y=train_df[\"sales\"])\n",
    "plt.title(\"Sales vs Transactions\")\n",
    "plt.xlabel(\"Transactions\")\n",
    "plt.ylabel(\"Sales\")\n",
    "plt.show()\n"
   ]
  },
  {
   "cell_type": "markdown",
   "id": "7a0a74cd-c7f7-4454-ae60-ba4d4f3a057e",
   "metadata": {},
   "source": [
    "### Sales Distribution"
   ]
  },
  {
   "cell_type": "code",
   "execution_count": 44,
   "id": "2323879a-b498-42fe-aea3-e4a16b08d88f",
   "metadata": {},
   "outputs": [
    {
     "data": {
      "image/png": "[encoded data removed]",
      "text/plain": [
       "<Figure size 1200x600 with 1 Axes>"
      ]
     },
     "metadata": {},
     "output_type": "display_data"
    }
   ],
   "source": [
    "plt.figure(figsize=(12, 6))\n",
    "sns.histplot(train_df[\"sales\"], bins=50, kde=True)\n",
    "plt.title(\"Sales Distribution\")\n",
    "plt.xlabel(\"Sales\")\n",
    "plt.ylabel(\"Frequency\")\n",
    "plt.show()\n"
   ]
  },
  {
   "cell_type": "markdown",
   "id": "6ef41039-e562-4cdf-bb7a-ea8bdace64e1",
   "metadata": {},
   "source": [
    "### Sales During Holidays vs. Non-Holidays"
   ]
  },
  {
   "cell_type": "code",
   "execution_count": 45,
   "id": "0314ba8d-b5e3-4e11-9610-129131d89d8b",
   "metadata": {},
   "outputs": [
    {
     "data": {
      "image/png": "[encoded data removed]",
      "text/plain": [
       "<Figure size 800x500 with 1 Axes>"
      ]
     },
     "metadata": {},
     "output_type": "display_data"
    }
   ],
   "source": [
    "plt.figure(figsize=(8, 5))\n",
    "sns.boxplot(x=train_df[\"holiday_type\"], y=train_df[\"sales\"])\n",
    "plt.title(\"Sales During Holidays vs. Non-Holidays\")\n",
    "plt.xticks(rotation=45)\n",
    "plt.show()"
   ]
  },
  {
   "cell_type": "markdown",
   "id": "6f703647-499c-4d2a-a932-514cef9da919",
   "metadata": {},
   "source": [
    "# Model Training (SVM & LSTM)"
   ]
  },
  {
   "cell_type": "code",
   "execution_count": 46,
   "id": "f9d4bf91-5957-42a1-ae83-15e7ecb5f367",
   "metadata": {},
   "outputs": [],
   "source": [
    "from sklearn.model_selection import train_test_split\n",
    "\n",
    "# Select Features (Drop target 'sales' from input)\n",
    "X = train_df.drop(columns=[\"sales\"])  # Input Features\n",
    "y = train_df[\"sales\"]  # Target variable"
   ]
  },
  {
   "cell_type": "code",
   "execution_count": 47,
   "id": "fe9258cb-5925-46bf-8813-24f65203bab7",
   "metadata": {},
   "outputs": [],
   "source": [
    "# Train-Test Split (80% train, 20% test)\n",
    "X_train, X_test, y_train, y_test = train_test_split(X, y, test_size=0.2, shuffle=False, random_state=42)"
   ]
  },
  {
   "cell_type": "code",
   "execution_count": 48,
   "id": "ef13001e-9c2a-455b-9f8d-bfd225d75fa2",
   "metadata": {},
   "outputs": [
    {
     "name": "stdout",
     "output_type": "stream",
     "text": [
      "Train Data Shape: (2443478, 18) (2443478,)\n",
      "Test Data Shape: (610870, 18) (610870,)\n"
     ]
    }
   ],
   "source": [
    "# Print Shape of Train/Test Sets\n",
    "print(\"Train Data Shape:\", X_train.shape, y_train.shape)\n",
    "print(\"Test Data Shape:\", X_test.shape, y_test.shape)"
   ]
  },
  {
   "cell_type": "markdown",
   "id": "ff969408-07c7-49fb-a740-bab6aaa048a2",
   "metadata": {},
   "source": [
    "# Train Support Vector Machine (SVM)"
   ]
  },
  {
   "cell_type": "code",
   "execution_count": 49,
   "id": "26c2cf2c-12ed-467b-9c5c-7367c1fbed47",
   "metadata": {},
   "outputs": [],
   "source": [
    "from sklearn.svm import SVR\n",
    "from sklearn.preprocessing import StandardScaler\n",
    "from sklearn.metrics import mean_squared_error"
   ]
  },
  {
   "cell_type": "code",
   "execution_count": 50,
   "id": "e19d1749-5df7-4226-81d7-96076d73f646",
   "metadata": {},
   "outputs": [
    {
     "name": "stdout",
     "output_type": "stream",
     "text": [
      "Categorical Columns: Index(['holiday_type', 'city', 'state'], dtype='object')\n"
     ]
    }
   ],
   "source": [
    "# Identify non-numeric columns\n",
    "categorical_columns = X_train.select_dtypes(include=[\"object\"]).columns\n",
    "print(\"Categorical Columns:\", categorical_columns)"
   ]
  },
  {
   "cell_type": "code",
   "execution_count": 51,
   "id": "91a17a50-ed4e-4e2a-84fc-667d87c2ba04",
   "metadata": {},
   "outputs": [],
   "source": [
    "from sklearn.preprocessing import LabelEncoder\n",
    "\n",
    "# Apply Label Encoding to categorical features\n",
    "le = LabelEncoder()\n",
    "for col in categorical_columns:\n",
    "    X_train[col] = le.fit_transform(X_train[col])\n",
    "    X_test[col] = le.transform(X_test[col])  # Use same encoder for test set"
   ]
  },
  {
   "cell_type": "code",
   "execution_count": 52,
   "id": "fe7ac5eb-1edc-40b5-99e0-ae9fc926405d",
   "metadata": {},
   "outputs": [],
   "source": [
    "# Scale the Features (SVM is sensitive to scale)\n",
    "scaler = StandardScaler()\n",
    "X_train_scaled = scaler.fit_transform(X_train)\n",
    "X_test_scaled = scaler.transform(X_test)"
   ]
  },
  {
   "cell_type": "code",
   "execution_count": 53,
   "id": "ad643681-d774-4f48-9706-585a9a5ae409",
   "metadata": {},
   "outputs": [
    {
     "data": {
      "text/plain": [
       "(array([[-1.70014094, -0.15470484, -0.30412338, ..., -0.62027369,\n",
       "          1.41432513, -0.28282046],\n",
       "        [-1.70014094, -0.15470484, -0.30412338, ..., -0.62027369,\n",
       "          1.41432513, -0.28282046],\n",
       "        [-1.70014094, -0.15470484, -0.30412338, ..., -0.62027369,\n",
       "          1.41432513, -0.28282046],\n",
       "        ...,\n",
       "        [-0.54523718, -0.15470484, -0.56794905, ...,  1.61219155,\n",
       "         -0.707051  , -0.28282046],\n",
       "        [-0.54523718, -0.15470484, -0.56794905, ...,  1.61219155,\n",
       "         -0.707051  , -0.28282046],\n",
       "        [-0.54523718,  0.67922886, -0.56794905, ...,  1.61219155,\n",
       "         -0.707051  , -0.28282046]]),\n",
       " array([[-0.54523718, -0.15470484, -0.56794905, ...,  1.61219155,\n",
       "         -0.707051  , -0.28282046],\n",
       "        [-0.54523718, -0.15470484, -0.56794905, ...,  1.61219155,\n",
       "         -0.707051  , -0.28282046],\n",
       "        [-0.54523718, -0.15470484, -0.56794905, ...,  1.61219155,\n",
       "         -0.707051  , -0.28282046],\n",
       "        ...,\n",
       "        [-1.18685038, 15.27306868,  0.5231818 , ..., -0.62027369,\n",
       "         -0.707051  , -0.28282046],\n",
       "        [-1.18685038,  0.67922886,  0.5231818 , ..., -0.62027369,\n",
       "         -0.707051  , -0.28282046],\n",
       "        [-1.18685038, -0.15470484,  0.5231818 , ..., -0.62027369,\n",
       "         -0.707051  , -0.28282046]]))"
      ]
     },
     "execution_count": 53,
     "metadata": {},
     "output_type": "execute_result"
    }
   ],
   "source": [
    "X_train_scaled, X_test_scaled"
   ]
  },
  {
   "cell_type": "markdown",
   "id": "020542f7-8da1-4684-be67-f19adbec09af",
   "metadata": {},
   "source": [
    "### Use tqdm to Track Progress"
   ]
  },
  {
   "cell_type": "code",
   "execution_count": null,
   "id": "90e64d69-6982-4847-be5d-e9b3be5bde84",
   "metadata": {},
   "outputs": [
    {
     "name": "stderr",
     "output_type": "stream",
     "text": [
      "Training SVM:   1%|▎                            | 1/100 [00:12<21:20, 12.94s/it]"
     ]
    }
   ],
   "source": [
    "from sklearn.svm import SVR\n",
    "from tqdm import tqdm\n",
    "import numpy as np\n",
    "\n",
    "# Define SVM model\n",
    "svm_model = SVR(kernel=\"rbf\")\n",
    "\n",
    "# Train model with tqdm progress bar\n",
    "for i in tqdm(range(1, 101), desc=\"Training SVM\"):\n",
    "    sample_size = int(len(X_train_scaled) * (i / 100))  # Increase training data gradually\n",
    "    svm_model.fit(X_train_scaled[:sample_size], y_train[:sample_size])"
   ]
  },
  {
   "cell_type": "code",
   "execution_count": null,
   "id": "5932f829-b4b6-4fd2-ae0d-99c8c26ba976",
   "metadata": {},
   "outputs": [],
   "source": [
    "# Predict Sales\n",
    "y_pred_svm = svm_model.predict(X_test_scaled)"
   ]
  },
  {
   "cell_type": "code",
   "execution_count": null,
   "id": "de801542-c4ff-4fb9-a03b-1984c72d30e1",
   "metadata": {},
   "outputs": [],
   "source": [
    "# Evaluate Model Performance\n",
    "mse_svm = mean_squared_error(y_test, y_pred_svm)\n",
    "print(\"SVM Model Mean Squared Error:\", mse_svm)"
   ]
  },
  {
   "cell_type": "code",
   "execution_count": null,
   "id": "c96a1db7-1054-48ca-ad05-274d017f0a3f",
   "metadata": {},
   "outputs": [],
   "source": []
  },
  {
   "cell_type": "markdown",
   "id": "556dc581-d93e-4f34-a4c7-739a59c4d422",
   "metadata": {},
   "source": [
    "# Train LSTM (Deep Learning)"
   ]
  },
  {
   "cell_type": "markdown",
   "id": "6fc7dac5-de79-4522-a41a-8acf7ce4a949",
   "metadata": {},
   "source": [
    "#### Reshape Data for LSTM"
   ]
  },
  {
   "cell_type": "code",
   "execution_count": null,
   "id": "079e4b57-d1a3-4654-a4c3-357ae95dd347",
   "metadata": {},
   "outputs": [],
   "source": [
    "import numpy as np\n",
    "import tensorflow as tf\n",
    "from tensorflow.keras.models import Sequential\n",
    "from tensorflow.keras.layers import Dense, LSTM\n",
    "\n",
    "# Scale Target Variable for LSTM\n",
    "scaler_y = StandardScaler()\n",
    "y_train_scaled = scaler_y.fit_transform(y_train.values.reshape(-1, 1))\n",
    "y_test_scaled = scaler_y.transform(y_test.values.reshape(-1, 1))\n",
    "\n",
    "# Reshape Data for LSTM (3D format: samples, time-steps, features)\n",
    "X_train_lstm = np.reshape(X_train_scaled, (X_train_scaled.shape[0], 1, X_train_scaled.shape[1]))\n",
    "X_test_lstm = np.reshape(X_test_scaled, (X_test_scaled.shape[0], 1, X_test_scaled.shape[1]))\n",
    "\n",
    "print(\"LSTM Input Shape:\", X_train_lstm.shape)\n"
   ]
  },
  {
   "cell_type": "markdown",
   "id": "2f84b8be-cd00-4e89-a83c-a4dfd6d96489",
   "metadata": {},
   "source": [
    "####  Build and Train LSTM Model"
   ]
  },
  {
   "cell_type": "code",
   "execution_count": null,
   "id": "6a6bc3db-2f28-490d-b0af-f7cba62a6cec",
   "metadata": {},
   "outputs": [],
   "source": [
    "# Build LSTM Model\n",
    "lstm_model = Sequential([\n",
    "    LSTM(units=50, return_sequences=True, input_shape=(X_train_lstm.shape[1], X_train_lstm.shape[2])),\n",
    "    LSTM(units=50),\n",
    "    Dense(units=1)\n",
    "])\n",
    "\n",
    "# Compile Model\n",
    "lstm_model.compile(optimizer=\"adam\", loss=\"mean_squared_error\")\n",
    "\n",
    "# Train Model\n",
    "lstm_model.fit(X_train_lstm, y_train_scaled, epochs=10, batch_size=32)\n",
    "\n",
    "# Predict Sales with LSTM\n",
    "y_pred_lstm = lstm_model.predict(X_test_lstm)\n",
    "\n",
    "# Inverse Transform Predictions\n",
    "y_pred_lstm = scaler_y.inverse_transform(y_pred_lstm)\n",
    "\n",
    "# Evaluate Model\n",
    "mse_lstm = mean_squared_error(y_test, y_pred_lstm)\n",
    "print(\"LSTM Model Mean Squared Error:\", mse_lstm)\n"
   ]
  },
  {
   "cell_type": "markdown",
   "id": "7f428e45-7cd0-4fa4-b87b-cf84e9bea7ad",
   "metadata": {},
   "source": [
    "# Compare Model Performances"
   ]
  },
  {
   "cell_type": "code",
   "execution_count": null,
   "id": "f84c9efe-2df0-4bf3-bd0b-603f6b0f14b8",
   "metadata": {},
   "outputs": [],
   "source": [
    "import matplotlib.pyplot as plt\n",
    "\n",
    "plt.figure(figsize=(12, 6))\n",
    "plt.plot(y_test.values[:100], label=\"Actual Sales\", color=\"blue\")\n",
    "plt.plot(y_pred_svm[:100], label=\"SVM Predictions\", linestyle=\"dashed\", color=\"red\")\n",
    "plt.plot(y_pred_lstm[:100], label=\"LSTM Predictions\", linestyle=\"dashed\", color=\"green\")\n",
    "plt.title(\"Sales Forecasting: SVM vs. LSTM\")\n",
    "plt.xlabel(\"Days\")\n",
    "plt.ylabel(\"Sales\")\n",
    "plt.legend()\n",
    "plt.show()\n"
   ]
  },
  {
   "cell_type": "markdown",
   "id": "418fd6dd-1195-4927-aa98-4b0ed1baaab2",
   "metadata": {},
   "source": [
    "# Save Models and Upload to GitHub"
   ]
  },
  {
   "cell_type": "code",
   "execution_count": null,
   "id": "c71d7d32-baa3-4fe1-8a59-f28cc2670d1d",
   "metadata": {},
   "outputs": [],
   "source": []
  },
  {
   "cell_type": "code",
   "execution_count": null,
   "id": "47194252-5e15-43cd-8f49-3c38297d7941",
   "metadata": {},
   "outputs": [],
   "source": []
  },
  {
   "cell_type": "code",
   "execution_count": null,
   "id": "a12bfbe6-4b91-459f-9792-9638a15a76f8",
   "metadata": {},
   "outputs": [],
   "source": []
  }
 ],
 "metadata": {
  "kernelspec": {
   "display_name": "Python 3 (ipykernel)",
   "language": "python",
   "name": "python3"
  },
  "language_info": {
   "codemirror_mode": {
    "name": "ipython",
    "version": 3
   },
   "file_extension": ".py",
   "mimetype": "text/x-python",
   "name": "python",
   "nbconvert_exporter": "python",
   "pygments_lexer": "ipython3",
   "version": "3.9.21"
  }
 },
 "nbformat": 4,
 "nbformat_minor": 5
}
